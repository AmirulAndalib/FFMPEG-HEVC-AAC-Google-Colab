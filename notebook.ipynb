{
  "nbformat": 4,
  "nbformat_minor": 0,
  "metadata": {
    "colab": {
      "name": "FFMPEG X265 AAC",
      "provenance": [],
      "collapsed_sections": [
        "YRPaM-FhRIXi",
        "ercDPZ6CIlVz",
        "yakbThfRnJr1",
        "RDHuIkoi6l9a",
        "GahMjYf8miNs",
        "NqB2mnt78bxA",
        "Cqy3vXXOMI06"
      ],
      "toc_visible": true,
      "machine_shape": "hm",
      "include_colab_link": true
    },
    "kernelspec": {
      "name": "python3",
      "display_name": "Python 3"
    },
    "accelerator": "GPU"
  },
  "cells": [
    {
      "cell_type": "markdown",
      "metadata": {
        "id": "view-in-github",
        "colab_type": "text"
      },
      "source": [
        "<a href=\"https://colab.research.google.com/gist/Ptibouc77/3b38870276a8afe775ee8c59b36a4566/notebook.ipynb\" target=\"_parent\"><img src=\"https://colab.research.google.com/assets/colab-badge.svg\" alt=\"Open In Colab\"/></a>"
      ]
    },
    {
      "cell_type": "markdown",
      "metadata": {
        "colab_type": "text",
        "id": "YRPaM-FhRIXi"
      },
      "source": [
        "# <img src=\"https://upload.wikimedia.org/wikipedia/commons/thumb/d/da/Google_Drive_logo.png/600px-Google_Drive_logo.png\" height=30px>      ___Mount / Unmount Gdrive!___"
      ]
    },
    {
      "cell_type": "code",
      "metadata": {
        "colab_type": "code",
        "cellView": "form",
        "id": "U2avD1zRIlWA",
        "colab": {}
      },
      "source": [
        "#@markdown <br><center><img src='https://upload.wikimedia.org/wikipedia/commons/thumb/d/da/Google_Drive_logo.png/600px-Google_Drive_logo.png' height=\"50\" alt=\"Gdrive logo\"/></center>\n",
        "#@markdown <center><h3>Mount Gdrive to /content/drive</h3></center><br>\n",
        "MODE = \"MOUNT\" #@param [\"MOUNT\", \"UNMOUNT\"]\n",
        "#Mount your Gdrive! \n",
        "from google.colab import drive\n",
        "drive.mount._DEBUG = False\n",
        "if MODE == \"MOUNT\":\n",
        "  drive.mount('/content/drive', force_remount=True)\n",
        "elif MODE == \"UNMOUNT\":\n",
        "  try:\n",
        "    drive.flush_and_unmount()\n",
        "  except ValueError:\n",
        "    pass\n",
        "  get_ipython().system_raw(\"rm -rf /root/.config/Google/DriveFS\")"
      ],
      "execution_count": null,
      "outputs": []
    },
    {
      "cell_type": "code",
      "metadata": {
        "id": "IsQPA4qZD4hK",
        "colab_type": "code",
        "cellView": "form",
        "colab": {}
      },
      "source": [
        "#@markdown <h4><b>←</b> ឵឵Click Here to <b>Force Remount</b> your Google Drive</h4>\n",
        "#@markdown <h5><i>(Only use if needed)</i></h5>\n",
        "drive.mount(\"/content/drive\", force_remount=True)"
      ],
      "execution_count": null,
      "outputs": []
    },
    {
      "cell_type": "markdown",
      "metadata": {
        "colab_type": "text",
        "id": "ercDPZ6CIlVz"
      },
      "source": [
        "# <img src='https://www.vozidea.com/wp-content/uploads/2018/05/ffmpeg-logo-grande.png ' height=\"57\" alt=\"RcloneLab\"/>"
      ]
    },
    {
      "cell_type": "code",
      "metadata": {
        "id": "G3JHGE0Jtzme",
        "colab_type": "code",
        "cellView": "form",
        "colab": {}
      },
      "source": [
        "#@markdown <h3>⬅️ Click Here to Install FFmpeg, VCSI & Mkvtoolnix</h3>\n",
        "\n",
        "!apt install ffmpeg\n",
        "!sudo apt-get install mkvtoolnix \n",
        "!pip install vcsi\n",
        "\n",
        "\n",
        "from IPython.display import HTML, clear_output\n",
        "clear_output()\n",
        "print(\"Server Started Successfully\")"
      ],
      "execution_count": null,
      "outputs": []
    },
    {
      "cell_type": "markdown",
      "metadata": {
        "colab_type": "text",
        "id": "yakbThfRnJr1"
      },
      "source": [
        "###» Video to (*H265*-AAC)  - Need GPU - Nvidia Telsa P100"
      ]
    },
    {
      "cell_type": "code",
      "metadata": {
        "id": "VKehJoo8MCsK",
        "colab_type": "code",
        "cellView": "form",
        "colab": {}
      },
      "source": [
        "import os, sys, re\n",
        "\n",
        "video_file_path = '' #@param {type:\"string\"}\n",
        "encode_setting = 'X265 AAC 160k' #@param [\"X265 AAC 160k\", \"X265 AAC_adtstoasc\", \"Audio Only AAC 160k (Video Copy)\", \"Video Only H265 (Audio Copy)\"]\n",
        "quality_setting = '30'#@param {type:\"string\"}\n",
        "file_type = 'mp4' #@param [\"mkv\", \"mp4\"]\n",
        "\n",
        "delsplit = re.search(\"\\/(?:.(?!\\/))+$\", video_file_path)\n",
        "testsplit = video_file_path.split(\"/\")\n",
        "filename = re.sub(\"^[\\/]\", \"\", delsplit.group(0))\n",
        "filename_raw = re.sub(\".{4}$\", \"\", filename)\n",
        "output_file_path = re.search(\"^[\\/].+\\/\", video_file_path)\n",
        "\n",
        "os.environ['inputFile'] = video_file_path\n",
        "os.environ['outputPath'] = output_file_path.group(0)\n",
        "os.environ['fileName'] = filename_raw\n",
        "os.environ['fileType'] = file_type\n",
        "os.environ['quality'] = quality_setting\n",
        "\n",
        "if encode_setting == 'X265 AAC 160k':\n",
        "   !ffmpeg -hwaccel cuvid -i \"$inputFile\" -metadata comment=\"X265-QF\"$quality\"-AAC\" -c:v hevc_nvenc -preset:v slow -rc vbr -cq \"$quality\" -qmin \"$quality\" -qmax \"$quality\" -b:v 0 -pix_fmt p010le -rc-lookahead 40 -no-scenecut 1 -init_qpP 23 -init_qpB 25 -init_qpI 21 -weighted_pred 1 -c:a aac -b:a 160k \"$outputPath\"X265/\"$fileName\".\"$fileType\"\n",
        "\n",
        "if encode_setting == 'X265 AAC_adtstoasc':\n",
        "    !ffmpeg -hwaccel cuvid -i \"$inputFile\" -metadata comment=\"X265-QF\"$quality\"-AAC\" -c:v hevc_nvenc -preset:v slow -rc vbr -cq \"$quality\" -qmin \"$quality\" -qmax \"$quality\" -b:v 0 -pix_fmt p010le -rc-lookahead 40 -no-scenecut 1 -init_qpP 23 -init_qpB 25 -init_qpI 21 -weighted_pred 1 -bsf:a aac_adtstoasc \"$outputPath\"X265/\"$fileName\".\"$fileType\"\n",
        "\n",
        "if encode_setting == 'Video Only H265 (Audio Copy)':\n",
        "   !ffmpeg -hwaccel cuvid -i \"$inputFile\" -metadata comment=\"X265-QF\"$quality\"-AAC\" -c:v hevc_nvenc -preset:v slow -rc vbr -cq \"$quality\" -qmin \"$quality\" -qmax \"$quality\" -b:v 0 -pix_fmt p010le -rc-lookahead 40 -no-scenecut 1 -init_qpP 23 -init_qpB 25 -init_qpI 21 -weighted_pred 1 -c:a copy \"$outputPath\"X265/\"$fileName\".\"$fileType\"\n",
        "\n",
        "if encode_setting == 'Audio Only AAC 160k (Video Copy)':\n",
        "   !ffmpeg -hwaccel cuvid -i \"$inputFile\" -metadata comment=\"X265-QF\"$quality\"-AAC\" -c:v copy -preset:v slow -rc vbr -cq \"$quality\" -qmin \"$quality\" -qmax \"$quality\" -b:v 0 -pix_fmt p010le -rc-lookahead 40 -no-scenecut 1 -init_qpP 23 -init_qpB 25 -init_qpI 21 -weighted_pred 1 -c:a aac -b:a 160k \"$outputPath\"X265/\"$fileName\".\"$fileType\"   "
      ],
      "execution_count": null,
      "outputs": []
    },
    {
      "cell_type": "markdown",
      "metadata": {
        "id": "RDHuIkoi6l9a",
        "colab_type": "text"
      },
      "source": [
        "###» Display Media File Codecs + Metadata"
      ]
    },
    {
      "cell_type": "markdown",
      "metadata": {
        "id": "X4yIG_nqYAoH",
        "colab_type": "text"
      },
      "source": [
        "> *You can ignore the \"At least one output file must be specified\" error after running this.*\n"
      ]
    },
    {
      "cell_type": "code",
      "metadata": {
        "id": "Sv8au_RO6WUs",
        "colab_type": "code",
        "cellView": "form",
        "colab": {
          "base_uri": "https://localhost:8080/"
        },
        "outputId": "67535fcc-b8be-4402-9390-0acb4a7038ac"
      },
      "source": [
        "import os, sys, re\n",
        "\n",
        "media_file_path = \"\" #@param {type:\"string\"}\n",
        "\n",
        "os.environ['inputFile'] = media_file_path\n",
        "\n",
        "!ffmpeg -i \"$inputFile\" -hide_banner"
      ],
      "execution_count": null,
      "outputs": [
        {
          "output_type": "stream",
          "text": [
            "\u001b[1;31m: No such file or directory\n",
            "\u001b[0m"
          ],
          "name": "stdout"
        }
      ]
    },
    {
      "cell_type": "markdown",
      "metadata": {
        "colab_type": "text",
        "id": "GahMjYf8miNs"
      },
      "source": [
        "###» Generate Thumbnails - Preview from Video "
      ]
    },
    {
      "cell_type": "code",
      "metadata": {
        "colab_type": "code",
        "cellView": "form",
        "id": "J2u-Rha8miNy",
        "colab": {
          "base_uri": "https://localhost:8080/",
          "height": 249
        },
        "outputId": "45e773f0-e2b4-43e7-ae66-7374e3824362"
      },
      "source": [
        "#@markdown <h3>← Click Here to generate thumbnail for selected video</h3>\n",
        "\n",
        "\n",
        "import os, sys, re\n",
        "from IPython.display import Image, display\n",
        "os.makedirs(\"/content/drive/My Drive/Thumbnail\", exist_ok=True)\n",
        "\n",
        "video_file_path = \"\" #@param {type:\"string\"}\n",
        "output_file_type = 'png' #@param [\"png\", \"jpg\"]\n",
        "creation_engine = 'vcsi' #@param [\"ffmpeg\", \"vcsi\"]\n",
        "output_path = 'same folder' #@param [\"same folder\", \"My Drive/Thumbnail\"]\n",
        "\n",
        "output_file_path = re.search(\"^[\\/].+\\/\", video_file_path)\n",
        "output_file_path_raw = output_file_path.group(0)\n",
        "delsplit = re.search(\"\\/(?:.(?!\\/))+$\", video_file_path)\n",
        "filename = re.sub(\"^[\\/]\", \"\", delsplit.group(0))\n",
        "filename_raw = re.sub(\".{4}$\", \"\", filename)\n",
        "file_extension = re.search(\".{3}$\", filename)\n",
        "file_extension_raw = file_extension.group(0)\n",
        "\n",
        "os.environ['inputFile'] = video_file_path\n",
        "os.environ['outputPath'] = output_file_path_raw\n",
        "os.environ['outputExtension'] = output_file_type\n",
        "os.environ['fileName'] = filename_raw\n",
        "os.environ['fileExtension'] = file_extension_raw\n",
        "\n",
        "if output_path == \"same folder\":\n",
        "  if creation_engine == 'ffmpeg':\n",
        "   !ffmpeg -hide_banner -i \"$inputFile\" -vframes 1 -q:v 0 -vf \"select=not(mod(n\\,200)),scale=-1:480,tile=3x2\" -an \"$outputPath\"/\"$fileName\"_thumbnails.\"$outputExtension\"\n",
        "\n",
        "if output_path == \"same folder\":\n",
        "  if creation_engine == 'vcsi':\n",
        "   !vcsi   \"$inputFile\" -o \"$outputPath\"/\"$fileName\"_thumbnails.\"$outputExtension\"\n",
        "\n",
        "if not output_path == \"same folder\":\n",
        "   !vcsi   \"$inputFile\" -o \"/content/drive/My Drive/Thumbnail\"/\"$fileName\"_thumbnails.\"$outputExtension\"\n"
      ],
      "execution_count": null,
      "outputs": [
        {
          "output_type": "error",
          "ename": "AttributeError",
          "evalue": "ignored",
          "traceback": [
            "\u001b[0;31m---------------------------------------------------------------------------\u001b[0m",
            "\u001b[0;31mAttributeError\u001b[0m                            Traceback (most recent call last)",
            "\u001b[0;32m<ipython-input-6-042b85a28c84>\u001b[0m in \u001b[0;36m<module>\u001b[0;34m()\u001b[0m\n\u001b[1;32m     12\u001b[0m \u001b[0;34m\u001b[0m\u001b[0m\n\u001b[1;32m     13\u001b[0m \u001b[0moutput_file_path\u001b[0m \u001b[0;34m=\u001b[0m \u001b[0mre\u001b[0m\u001b[0;34m.\u001b[0m\u001b[0msearch\u001b[0m\u001b[0;34m(\u001b[0m\u001b[0;34m\"^[\\/].+\\/\"\u001b[0m\u001b[0;34m,\u001b[0m \u001b[0mvideo_file_path\u001b[0m\u001b[0;34m)\u001b[0m\u001b[0;34m\u001b[0m\u001b[0;34m\u001b[0m\u001b[0m\n\u001b[0;32m---> 14\u001b[0;31m \u001b[0moutput_file_path_raw\u001b[0m \u001b[0;34m=\u001b[0m \u001b[0moutput_file_path\u001b[0m\u001b[0;34m.\u001b[0m\u001b[0mgroup\u001b[0m\u001b[0;34m(\u001b[0m\u001b[0;36m0\u001b[0m\u001b[0;34m)\u001b[0m\u001b[0;34m\u001b[0m\u001b[0;34m\u001b[0m\u001b[0m\n\u001b[0m\u001b[1;32m     15\u001b[0m \u001b[0mdelsplit\u001b[0m \u001b[0;34m=\u001b[0m \u001b[0mre\u001b[0m\u001b[0;34m.\u001b[0m\u001b[0msearch\u001b[0m\u001b[0;34m(\u001b[0m\u001b[0;34m\"\\/(?:.(?!\\/))+$\"\u001b[0m\u001b[0;34m,\u001b[0m \u001b[0mvideo_file_path\u001b[0m\u001b[0;34m)\u001b[0m\u001b[0;34m\u001b[0m\u001b[0;34m\u001b[0m\u001b[0m\n\u001b[1;32m     16\u001b[0m \u001b[0mfilename\u001b[0m \u001b[0;34m=\u001b[0m \u001b[0mre\u001b[0m\u001b[0;34m.\u001b[0m\u001b[0msub\u001b[0m\u001b[0;34m(\u001b[0m\u001b[0;34m\"^[\\/]\"\u001b[0m\u001b[0;34m,\u001b[0m \u001b[0;34m\"\"\u001b[0m\u001b[0;34m,\u001b[0m \u001b[0mdelsplit\u001b[0m\u001b[0;34m.\u001b[0m\u001b[0mgroup\u001b[0m\u001b[0;34m(\u001b[0m\u001b[0;36m0\u001b[0m\u001b[0;34m)\u001b[0m\u001b[0;34m)\u001b[0m\u001b[0;34m\u001b[0m\u001b[0;34m\u001b[0m\u001b[0m\n",
            "\u001b[0;31mAttributeError\u001b[0m: 'NoneType' object has no attribute 'group'"
          ]
        }
      ]
    },
    {
      "cell_type": "code",
      "metadata": {
        "id": "7KnkVIMRztKl",
        "colab_type": "code",
        "cellView": "form",
        "colab": {}
      },
      "source": [
        "#@markdown <h3>← Click Here to generate thumbnail for all video in input folder path</h3>\n",
        "\n",
        "import os, sys, re\n",
        "from IPython.display import Image, display\n",
        "os.makedirs(\"/content/drive/My Drive/Thumbnail\", exist_ok=True)\n",
        "\n",
        "video_files_path = \"\" #@param {type:\"string\"}\n",
        "output_path = 'same folder' #@param [\"same folder\", \"My Drive/Thumbnail\"]\n",
        "grid = 'default' #@param [\"default\", \"5x5\", \"7x7\", \"10x10\"]\n",
        "\n",
        "output_file_type = 'png' #@param [\"png\", \"jpg\"]\n",
        "timestamp = False #@param {type:\"boolean\"}\n",
        "\n",
        "if timestamp == False:\n",
        " if grid == 'default':\n",
        "  if output_path == \"same folder\":\n",
        "   !vcsi  \"$video_files_path\" -o \"$video_files_path\" -f \"$output_file_type\"\n",
        "\n",
        "  if not output_path == \"same folder\":\n",
        "   !vcsi   \"$video_files_path\" -o \"/content/drive/My Drive/Thumbnail/\" -f \"$output_file_type\"\n",
        "\n",
        " if grid == '5x5':\n",
        "  if output_path == \"same folder\":\n",
        "   !vcsi -g 5x5   \"$video_files_path\" -o \"$video_files_path\" -f \"$output_file_type\"\n",
        "\n",
        "  if not output_path == \"same folder\":\n",
        "   !vcsi -g 5x5   \"$video_files_path\" -o \"/content/drive/My Drive/Thumbnail/\" -f \"$output_file_type\"\n",
        "\n",
        " if grid == '7x7':\n",
        "  if output_path == \"same folder\":\n",
        "   !vcsi -g 7x7   \"$video_files_path\" -o \"$video_files_path\" -f \"$output_file_type\"\n",
        "\n",
        "  if not output_path == \"same folder\":\n",
        "   !vcsi -g 7x7   \"$video_files_path\" -o \"/content/drive/My Drive/Thumbnail/\" -f \"$output_file_type\"\n",
        "\n",
        " if grid == '10x10':\n",
        "  if output_path == \"same folder\":\n",
        "   !vcsi -g 10x10   \"$video_files_path\" -o \"$video_files_path\" -f \"$output_file_type\"\n",
        "\n",
        "  if not output_path == \"same folder\":\n",
        "   !vcsi -g 10x10   \"$video_files_path\" -o \"/content/drive/My Drive/Thumbnail/\" -f \"$output_file_type\"\n",
        "\n",
        "else:\n",
        " if grid == 'default':\n",
        "  if output_path == \"same folder\":\n",
        "   !vcsi  -t \"$video_files_path\" -o \"$video_files_path\" -f \"$output_file_type\"\n",
        "\n",
        "  if not output_path == \"same folder\":\n",
        "   !vcsi  -t \"$video_files_path\" -o \"/content/drive/My Drive/Thumbnail/\" -f \"$output_file_type\"\n",
        "\n",
        " if grid == '5x5':\n",
        "  if output_path == \"same folder\":\n",
        "   !vcsi -t -g 5x5   \"$video_files_path\" -o \"$video_files_path\" -f \"$output_file_type\"\n",
        "\n",
        "  if not output_path == \"same folder\":\n",
        "   !vcsi -t -g 5x5   \"$video_files_path\" -o \"/content/drive/My Drive/Thumbnail/\" -f \"$output_file_type\"\n",
        "\n",
        " if grid == '7x7':\n",
        "  if output_path == \"same folder\":\n",
        "   !vcsi -t -g 7x7   \"$video_files_path\" -o \"$video_files_path\" -f \"$output_file_type\"\n",
        "\n",
        "  if not output_path == \"same folder\":\n",
        "   !vcsi -t -g 7x7   \"$video_files_path\" -o \"/content/drive/My Drive/Thumbnail/\" -f \"$output_file_type\"\n",
        "\n",
        " if grid == '10x10':\n",
        "  if output_path == \"same folder\":\n",
        "   !vcsi -t -g 10x10   \"$video_files_path\" -o \"$video_files_path\" -f \"$output_file_type\"\n",
        "\n",
        "  if not output_path == \"same folder\":\n",
        "   !vcsi -t -g 10x10   \"$video_files_path\" -o \"/content/drive/My Drive/Thumbnail/\" -f \"$output_file_type\"\n",
        "\n",
        " \n",
        "\n"
      ],
      "execution_count": null,
      "outputs": []
    },
    {
      "cell_type": "markdown",
      "metadata": {
        "id": "NqB2mnt78bxA",
        "colab_type": "text"
      },
      "source": [
        "##### This will create a 3x2 layout in the same directory as your video file.\n",
        "* [*Example*](https://yuju.pw/y/39i2.png) *of output image*"
      ]
    },
    {
      "cell_type": "markdown",
      "metadata": {
        "id": "Cqy3vXXOMI06",
        "colab_type": "text"
      },
      "source": [
        "# ✦ *Colab Still Alive Console Script:*\n",
        "<p><font size=2px ><font color=\"red\"> Tip - Set a javascript interval to click on the connect button every 60 seconds. Open developer-settings (in your web-browser) with Ctrl+Shift+I then click on console tab and type this on the console prompt. (for mac press Option+Command+I)</font></p><b>Copy script in hidden cell and paste at your browser console !!! DO NOT CLOSE YOUR BROWSER IN ORDER TO STILL RUNNING SCRIPT</b>"
      ]
    },
    {
      "cell_type": "markdown",
      "metadata": {
        "id": "3Z8cK8h2Avbv",
        "colab_type": "text"
      },
      "source": [
        "<code>function ClickConnect(){\n",
        "console.log(\"Working\"); \n",
        "document.querySelector(\"colab-connect-button\").click() \n",
        "}setInterval(ClickConnect,6000)</code>"
      ]
    },
    {
      "cell_type": "code",
      "metadata": {
        "id": "OH3xVkwWmPYL",
        "colab_type": "code",
        "cellView": "form",
        "colab": {}
      },
      "source": [
        "#@title ← ឵឵ ឵Run this cell to crash your current Runtime if you're low on memory\n",
        "#@markdown <i>After crashing, you'll have access to all the preoccupied storage</i>\n",
        "some_str = ' ' * 5120000000000"
      ],
      "execution_count": null,
      "outputs": []
    }
  ]
}